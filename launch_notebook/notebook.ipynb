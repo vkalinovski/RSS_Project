{
  "cells": [
    {
      "cell_type": "code",
      "source": [
        "# 🗝️ Mediastack key\n",
        "MEDIASTACK_KEY = \"6a524b08bdd857104ac3068d9b2a5c2d\"\n",
        "\n",
        "from google.colab import drive\n",
        "import os, pathlib, shutil, glob, time\n",
        "\n",
        "# 1. подключаем Drive\n",
        "drive.mount(\"/content/drive\", force_remount=False)\n",
        "DRIVE = pathlib.Path(\"/content/drive/MyDrive/test\")\n",
        "TMP   = pathlib.Path(\"/content/RSS_tmp\")\n",
        "\n",
        "# 2. клон репозитория (RAM)\n",
        "os.chdir(\"/content\")\n",
        "if TMP.exists(): shutil.rmtree(TMP)\n",
        "!git clone -q --depth 1 https://github.com/vkalinovski/RSS_Project.git {TMP}\n",
        "\n",
        "CODE = next((p.parent for p in TMP.rglob(\"mediastack_fetcher.py\")), TMP)\n",
        "print(\"📂 scripts:\", CODE)\n",
        "\n",
        "# 3. минимальные зависимости\n",
        "!pip install -q feedparser requests python-dotenv pandas==2.2.2 matplotlib==3.8.4 nltk tqdm\n",
        "\n",
        "# 4. переменные окружения\n",
        "DRIVE.mkdir(parents=True, exist_ok=True)\n",
        "os.environ[\"DB_PATH\"] = str(DRIVE/\"news.db\")\n",
        "(CODE/\".env\").write_text(f\"MEDIASTACK_KEY={MEDIASTACK_KEY}\\n\")\n",
        "\n",
        "# 5. запуск ETL\n",
        "%cd {CODE}\n",
        "!python mediastack_fetcher.py          || echo \"⚠️ Mediastack step failed\"\n",
        "!python sentiment_analysis.py          || echo \"⚠️ Sentiment step failed\"\n",
        "!python analyze.py                     || echo \"⚠️ Analyze step failed\"\n",
        "\n",
        "# 6. перенос артефактов в Drive\n",
        "for f in glob.glob(\"news.csv\"):\n",
        "    shutil.move(f, DRIVE/\"news.csv\")\n",
        "if (CODE/\"graphs\").is_dir():\n",
        "    if (DRIVE/\"graphs\").exists(): shutil.rmtree(DRIVE/\"graphs\")\n",
        "    shutil.move(str(CODE/\"graphs\"), DRIVE/\"graphs\")\n",
        "\n",
        "print(\"\\n✅  Готово!  db/ и graphs/ →\", DRIVE)\n"
      ],
      "metadata": {
        "colab": {
          "base_uri": "https://localhost:8080/"
        },
        "id": "d3RLVfQY4A_3",
        "outputId": "ec7a90af-ec6a-4c37-8df1-4839914f7898"
      },
      "execution_count": 4,
      "outputs": [
        {
          "output_type": "stream",
          "name": "stdout",
          "text": [
            "Drive already mounted at /content/drive; to attempt to forcibly remount, call drive.mount(\"/content/drive\", force_remount=True).\n",
            "📂 scripts: /content/RSS_tmp/files\n",
            "/content/RSS_tmp/files\n",
            "Trump 2024-09: 0\n",
            "Trump 2024-10: 0\n",
            "Trump 2024-11: 0\n",
            "Trump 2024-12: 0\n",
            "Trump 2025-01: 100\n",
            "Trump 2025-02: 100\n",
            "Trump 2025-03: 100\n",
            "Trump 2025-04: 100\n",
            "Putin 2024-09: 0\n",
            "Putin 2024-10: 0\n",
            "Putin 2024-11: 0\n",
            "Putin 2024-12: 0\n",
            "Putin 2025-01: 100\n",
            "Putin 2025-02: 100\n",
            "Putin 2025-03: 100\n",
            "Putin 2025-04: 100\n",
            "Xi 2024-09: 0\n",
            "Xi 2024-10: 0\n",
            "Xi 2024-11: 0\n",
            "Xi 2024-12: 0\n",
            "Xi 2025-01: 100\n",
            "Xi 2025-02: 89\n",
            "Xi 2025-03: 86\n",
            "Xi 2025-04: 100\n",
            "✓ 76245 новых статей сохранено\n",
            "✓ 14428 новых статей сохранено\n",
            "✓ 23005 новых статей сохранено\n",
            "✓ 75608 новых статей сохранено\n",
            "sentiment: 100% 1144/1144 [00:00<00:00, 2084.39it/s]\n",
            "✓ sentiment обновлён: 1144\n",
            "/content/RSS_tmp/files/analyze.py:149: SettingWithCopyWarning: \n",
            "A value is trying to be set on a copy of a slice from a DataFrame.\n",
            "Try using .loc[row_indexer,col_indexer] = value instead\n",
            "\n",
            "See the caveats in the documentation: https://pandas.pydata.org/pandas-docs/stable/user_guide/indexing.html#returning-a-view-versus-a-copy\n",
            "  last[\"day\"] = last[\"published_at\"].dt.strftime(\"%m-%d\")\n",
            "✓ news.csv и 12 графиков сохранены в /content/drive/MyDrive/test\n",
            "\n",
            "✅  Готово!  db/ и graphs/ → /content/drive/MyDrive/test\n"
          ]
        }
      ]
    },
    {
      "cell_type": "code",
      "source": [],
      "metadata": {
        "id": "PhxfhhHv4A-I"
      },
      "execution_count": null,
      "outputs": []
    }
  ],
  "metadata": {
    "colab": {
      "provenance": []
    },
    "kernelspec": {
      "display_name": "Python 3",
      "name": "python3"
    },
    "language_info": {
      "name": "python"
    }
  },
  "nbformat": 4,
  "nbformat_minor": 0
}